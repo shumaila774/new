{
 "cells": [
  {
   "cell_type": "markdown",
   "id": "4bc3e07d-e012-4c9a-b08b-a9d600b38023",
   "metadata": {},
   "source": [
    "# Data Science Tools and Ecosystem"
   ]
  },
  {
   "cell_type": "markdown",
   "id": "9383c90c-7384-4561-85ad-cf6c15140179",
   "metadata": {},
   "source": [
    "## in this notebook,data science Tools and ecosystems are summerized"
   ]
  },
  {
   "cell_type": "markdown",
   "id": "1b23c40e-0107-4d30-b762-5c0fbbba2bd4",
   "metadata": {},
   "source": [
    "## Some of the popular languages that Data Scientists use are:Python,R and Sql"
   ]
  },
  {
   "cell_type": "markdown",
   "id": "e36a771a-233c-4199-bc3b-0019a0c5585c",
   "metadata": {},
   "source": [
    "## Some of the commonly used libraries used by Data Scientists include:Pandas.Numpy,Matplotlib"
   ]
  },
  {
   "cell_type": "markdown",
   "id": "c100d519-54c5-4a61-b2c5-f2844e6abc16",
   "metadata": {},
   "source": [
    "## Data science tools:Rstudio,Tableau,Power Bi,Hadoop,Apachespark"
   ]
  },
  {
   "cell_type": "markdown",
   "id": "106bc327-3aeb-4f95-a289-47c589d58ff8",
   "metadata": {},
   "source": [
    "### Below are a few examples of evaluating arithmetic expressions in Python."
   ]
  },
  {
   "cell_type": "code",
   "execution_count": 3,
   "id": "b3b4c01d-b7fc-449b-95f2-e20742ed686d",
   "metadata": {},
   "outputs": [
    {
     "data": {
      "text/plain": [
       "17"
      ]
     },
     "execution_count": 3,
     "metadata": {},
     "output_type": "execute_result"
    }
   ],
   "source": [
    "(3*4)+5"
   ]
  },
  {
   "cell_type": "code",
   "execution_count": 4,
   "id": "c808ca98-404c-4ef3-96ae-383f54472601",
   "metadata": {},
   "outputs": [
    {
     "data": {
      "text/plain": [
       "3.3333333333333335"
      ]
     },
     "execution_count": 4,
     "metadata": {},
     "output_type": "execute_result"
    }
   ],
   "source": [
    "200/60"
   ]
  },
  {
   "cell_type": "markdown",
   "id": "fd417729-02d0-4942-80bc-c3de32d755bd",
   "metadata": {},
   "source": [
    "**Objectives:**\n",
    "\n",
    "- List popular languages for Data Science.\n",
    "- Identify common libraries used in Data Science.\n",
    "- Explain key tools for Data Science.\n",
    "- Explore the use of Jupyter Notebooks.\n",
    "- Understand the basics of machine learning.\n"
   ]
  },
  {
   "cell_type": "markdown",
   "id": "112f1c4d-e6cb-42c7-b490-056000162876",
   "metadata": {},
   "source": [
    "## Author\n",
    "\n",
    "Shumaila Nazir\n"
   ]
  },
  {
   "cell_type": "code",
   "execution_count": null,
   "id": "f40ba299-88b5-4aee-883c-c6c3a4c26261",
   "metadata": {},
   "outputs": [],
   "source": []
  }
 ],
 "metadata": {
  "kernelspec": {
   "display_name": "Python 3 (ipykernel)",
   "language": "python",
   "name": "python3"
  },
  "language_info": {
   "codemirror_mode": {
    "name": "ipython",
    "version": 3
   },
   "file_extension": ".py",
   "mimetype": "text/x-python",
   "name": "python",
   "nbconvert_exporter": "python",
   "pygments_lexer": "ipython3",
   "version": "3.11.9"
  }
 },
 "nbformat": 4,
 "nbformat_minor": 5
}
